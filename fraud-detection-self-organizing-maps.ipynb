{
  "cells": [
    {
      "cell_type": "markdown",
      "metadata": {
        "pycharm": {}
      },
      "source": "# Self-Organizing Feature Map to Uncover Automobile Bodily Injury Claims Fraud"
    },
    {
      "cell_type": "markdown",
      "metadata": {
        "pycharm": {}
      },
      "source": "We will achieve this with unsupervised deep learning, which means that we will identify some patterns in a high dimensional dataset full of non-linear relationships and one of these patterns will be the potential frauds.  "
    },
    {
      "cell_type": "code",
      "execution_count": 1,
      "metadata": {
        "pycharm": {}
      },
      "outputs": [],
      "source": "\nimport numpy as np\nimport matplotlib.pyplot as plt\nimport pandas as pd\n\ndataset \u003d pd.read_csv(\u0027YOUR_DATA.csv\u0027)\n#split the dataset\nX \u003d dataset.iloc[:, :-1].values\ny \u003d dataset.iloc[:, -1].values\n\n#FEATURE SCALING:\nfrom sklearn.preprocessing import MinMaxScaler\nsc \u003d MinMaxScaler(feature_range \u003d (0, 1))\nX \u003d sc.fit_transform(X)\n\nfrom minisom import MiniSom\n\nsom \u003d MiniSom(x \u003d 10, y \u003d 10, input_len \u003d 15, sigma \u003d 1.0, learning_rate \u003d 0.5)\n\n\nsom.random_weights_init(X)\n\n\nsom.train_random(data \u003d X, num_iteration \u003d 100)\n\nfrom pylab import bone, pcolor, colorbar, plot, show\nbone()\npcolor(som.distance_map().T)\ncolorbar()\nmarkers \u003d [\u0027o\u0027, \u0027s\u0027]\ncolors \u003d [\u0027r\u0027, \u0027g\u0027]\n\n\nfor i, x in enumerate(X):\n    w \u003d som.winner(x)\n    plot(w[0] + 0.5,\n         w[1] + 0.5,\n         markers[y[i]],\n         markeredgecolor \u003d colors[y[i]],\n         markerfacecolor \u003d \u0027None\u0027,\n         markersize \u003d 10,\n         markeredgewidth \u003d 2)\nshow()\n"
    },
    {
      "cell_type": "markdown",
      "source": "# Finding the frauds",
      "metadata": {
        "pycharm": {
          "metadata": false
        }
      }
    },
    {
      "cell_type": "markdown",
      "source": "",
      "metadata": {
        "pycharm": {
          "metadata": false
        }
      }
    },
    {
      "cell_type": "code",
      "execution_count": null,
      "outputs": [],
      "source": "mappings \u003d som.win_map(X)\n\nfrauds \u003d np.concatenate((mappings[(7,1)], mappings[(7,2)], ), axis \u003d 0)\nfrauds \u003d sc.inverse_transform(frauds)\nfrauds_df \u003dpd.DataFrame(frauds)\nfrauds_df\n\nmapping2 \u003d som.distance_map().T\nall_coordinates \u003d {}\ni_counter \u003d 0\nfor i in mapping2:\n    counter_x \u003d 0\n    for x in i:\n        value \u003d x\n        coordinate \u003d (counter_x,i_counter)\n        all_coordinates[coordinate] \u003d value\n        counter_x +\u003d 1\n    i_counter +\u003d 1\nwhite \u003d []\nfor x in all_coordinates.keys():\n    if all_coordinates[x] \u003e\u003d 0.80:\n        white.append(x)\nwhite",
      "metadata": {
        "pycharm": {
          "metadata": false,
          "name": "#%%\n"
        }
      }
    }
  ],
  "metadata": {
    "kernelspec": {
      "display_name": "Python 3",
      "language": "python",
      "name": "python3"
    },
    "language_info": {
      "codemirror_mode": {
        "name": "ipython",
        "version": 3
      },
      "file_extension": ".py",
      "mimetype": "text/x-python",
      "name": "python",
      "nbconvert_exporter": "python",
      "pygments_lexer": "ipython3",
      "version": "3.6.0"
    },
    "varInspector": {
      "cols": {
        "lenName": 16,
        "lenType": 16,
        "lenVar": 40
      },
      "kernels_config": {
        "python": {
          "delete_cmd_postfix": "",
          "delete_cmd_prefix": "del ",
          "library": "var_list.py",
          "varRefreshCmd": "print(var_dic_list())"
        },
        "r": {
          "delete_cmd_postfix": ") ",
          "delete_cmd_prefix": "rm(",
          "library": "var_list.r",
          "varRefreshCmd": "cat(var_dic_list()) "
        }
      },
      "position": {
        "height": "463px",
        "left": "172px",
        "right": "20px",
        "top": "117px",
        "width": "551px"
      },
      "types_to_exclude": [
        "module",
        "function",
        "builtin_function_or_method",
        "instance",
        "_Feature"
      ],
      "window_display": false
    }
  },
  "nbformat": 4,
  "nbformat_minor": 2
}